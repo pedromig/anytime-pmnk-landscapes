{
 "cells": [
  {
   "cell_type": "markdown",
   "metadata": {},
   "source": [
    "# Anytime analysis of algorithms for the pMNK-landscapes problem\n",
    "\n",
    "## Index\n",
    "- [Anytime analysis of algorithms for the pMNK-landscapes problem](#anytime-analysis-of-algorithms-for-the-pmnk-landscapes-problem)\n",
    "  * [Index](#index)\n",
    "  * [Description](#description)\n",
    "    + [Multi-objective optimization and anytime analysis](#multi-objective-optimization-and-anytime-analysis)\n",
    "    + [The pMNK-landscapes problem](#the-pmnk-landscapes-problem)\n",
    "  * [Objectives](#objectives)\n",
    "  * [Implementation](#implementation)\n",
    "  * [Experimentation](#experimentation)\n",
    "    + [Plot 1 (instance: rmnk_0.0_2_128_1_0.dat](#plot-1--instance--rmnk-00-2-128-1-0dat)\n",
    "    + [Plot 2 (instance: rmnk_0.0_2_128_8_0.dat)](#plot-2--instance--rmnk-00-2-128-8-0dat-)\n",
    "    + [Plot 3 (instance: rmnk_0.0_5_128_1_0.dat)](#plot-3--instance--rmnk-00-5-128-1-0dat-)\n",
    "    + [Plot 4 (instance: rmnk_0.0_5_128_8_0.dat)](#plot-4--instance--rmnk-00-5-128-8-0dat-)\n",
    "    + [Plot 5 (instance: rmnk_0.0_7_128_1_0.dat)](#plot-5--instance--rmnk-00-7-128-1-0dat-)\n",
    "    + [Plot 6 (instance: rmnk_0.0_7_128_1_8.dat)](#plot-6--instance--rmnk-00-7-128-1-8dat-)\n",
    "    + [Plot 7 (instance: rmnk_0.3_2_128_1_0.dat)](#plot-7--instance--rmnk-03-2-128-1-0dat-)\n",
    "    + [Plot 8 (instance: rmnk_0.3_2_128_8_0.dat)](#plot-8--instance--rmnk-03-2-128-8-0dat-)\n",
    "    + [Plot 9 (instance: rmnk_0.3_5_128_1_0.dat)](#plot-9--instance--rmnk-03-5-128-1-0dat-)\n",
    "    + [Plot 10 (instance: rmnk_0.3_5_128_8_0.dat)](#plot-10--instance--rmnk-03-5-128-8-0dat-)\n",
    "    + [Plot 11 (instance: rmnk_0.7_2_128_1_0.dat)](#plot-11--instance--rmnk-07-2-128-1-0dat-)\n",
    "    + [Plot 12 (instance: rmnk_0.7_2_128_8_0.dat)](#plot-12--instance--rmnk-07-2-128-8-0dat-)\n",
    "    + [Plot 13 (instance: rmnk_-0.3_2_128_1_0.dat)](#plot-13--instance--rmnk--03-2-128-1-0dat-)\n",
    "    + [Plot 14 (instance: rmnk_-0.3_2_128_8_0.dat)](#plot-14--instance--rmnk--03-2-128-8-0dat-)\n",
    "    + [Plot 15 (instance: rmnk_-0.3_3_128_1_0.dat)](#plot-15--instance--rmnk--03-3-128-1-0dat-)\n",
    "    + [Plot 16 (instance: rmnk_-0.3_3_128_8_0.dat)](#plot-16--instance--rmnk--03-3-128-8-0dat-)\n",
    "    + [Plot 17 (instance: rmnk_-0.7_2_128_1_0.dat)](#plot-17--instance--rmnk--07-2-128-1-0dat-)\n",
    "    + [Plot 18 (instance: rmnk_-0.7_2_128_8_0.dat)](#plot-18--instance--rmnk--07-2-128-8-0dat-)\n",
    "  * [Conclusion and Future Work](#conclusion-and-future-work)\n",
    "  * [References](#references)\n",
    "## Description\n",
    "\n",
    "### Multi-objective optimization and anytime analysis\n",
    "\n",
    "Multi-objective combinatorial optimization problems are combinatorial problems that have more than one\n",
    "objective function to be optimized, e.g. minimizing both the time and cost required to travel between\n",
    "two cities. Due to the conflicting nature of these problems there is often no single solution that is\n",
    "optimal on all objective functions. Instead, there is a set of optimal solutions, namely the Pareto set,\n",
    "that offer a trade-off between the objective functions. Unfortunately, finding the Pareto set in an\n",
    "acceptable amount of time is often infeasible. So instead, many algorithms focus instead on a find a good\n",
    "approximation in a short amount of time, and indeed many algorithms have been proposed for\n",
    "multi-objective combinatorial optimization problems over the past few years. In particular, there have\n",
    "been a large number of evolutionary algorithms and local search heuristics proposed, which can often\n",
    "quickly achieve good solutions even if they can not often achieve the complete Pareto set.\n",
    "\n",
    "However, the study of these algorithms often focuses on analyzing the quality of the approximation\n",
    "obtained within a given time budget, or, in reverse, the time needed to achieve a given target quality. \n",
    "\n",
    "Unfortunately, the real time budgets or target qualities that are relevant for the use of such algorithms\n",
    "in real-world applications is often unknown and can vary widely. So instead, it can be more useful to\n",
    "analyze the algorithms from an anytime perspective, i.e. to study the evolution of the approximation\n",
    "quality with respect to the elapsed time to allow for a broader analysis. \n",
    "\n",
    "### The pMNK-landscapes problem\n",
    "\n",
    "The pMNK-landscapes problem is a synthetic model used for constructing tunable multi-objective landscapes\n",
    "taking into account objective correlation. By tunning the problem's parameters: \"*p*\" (correlation between\n",
    "objective functions), \"M\" (number of objective functions), \"N\" (size of the binary string representative\n",
    "of a solution), \"K\" (degree of epistasis), we are able to create fitness landscapes with different levels\n",
    "of ruggedness. This problem can be formally defined as follows:  \n",
    "\n",
    "$$ \n",
    "\\max \\ f_{i}(x) = \\dfrac{1}{N} \\sum{f_{ij}(x_{j}, x_{j_{1}}, \\ldots , x_{j_{K}})}   \n",
    "\\qquad i \\in \\{1 , \\ldots , M\\} \\\\ \n",
    "s.t \\qquad x_{j} \\in \\{0,1\\} \\qquad j \\in i \\{1, \\ldots, N\\}\n",
    "$$\n",
    "\n",
    "## Objectives\n",
    "\n",
    "The main aim of this project was to implement heuristic algorithms for the pmnk-landscapes problem,\n",
    "study their performance from an anytime perspective, and the impact that the (tunable) ruggedness\n",
    "of the fitness landscape has on the behavior/performance of these algorithms, which could give\n",
    "invaluable insight for the tasks of automatic algorithm configuration and selection.\n",
    "\n",
    "For the duration of this project, the following main tasks were set to be completed:\n",
    "\n",
    "- Read about multi-object combinatorial optimization concepts.\n",
    "- Learn to use the ([API](http://mocobench.sourceforge.net/index.php?n=Problem.RMNK)) for instance\n",
    "generation and evaluation \n",
    "- Implement and initial version of the Global Simple Evolutionary Multiobjective Optimizer (GSEMO)\n",
    "- Extend the GSEMO implementation to allow the gathering of anytime data, using the hypervolume indicator\n",
    "to measure the quality of the approximations, and the number of objective function evaluations performed\n",
    "as the measure of time.\n",
    "- Implement a Pareto Local Search (PLS) algorithm taking into account the gathering of anytime data.\n",
    "- Implement different PLS neighboorhod exploration and acceptance criteria and study the impact on the\n",
    "performance of the algorithm from an anytime perspective.\n",
    "- Implement a basic version of the Indicator Based Evolutionary Algorithm (B-IBEA) taking into account\n",
    "the gathering of anytime data.\n",
    "- Implement IBEA indicators (EPS and IHD) and multiple recombination, mutation and selection operators \n",
    "and study their impact on the anytime performance of the algorithm.\n",
    "- Implement the adaptive version of the Indicator Based Evolutionary Algorithm (A-IBEA) and study its\n",
    "performance benefits in relation to the basic version of the algorithm.\n",
    "- Analyse the anytime performance of the GSEMO, PLS and IBEA algorithms with respect to the parameters\n",
    "of the problem.\n",
    "- Begin the development of an API that allows the gathering of anytime data produced by multi-objective\n",
    "algorithms, using the already implemented ones as starting point.\n",
    "\n",
    "## Implementation\n",
    "\n",
    "All the algorithms were implemented and a small API that allows the gathering of anytime data\n",
    "(hypervolume) was developed in the c++ programming language. Included with the source code \n",
    "also come some auxiliary scripts to aid in the instance generation, testing and gathering of \n",
    "data produced by the algorithms.\n",
    "\n",
    "You can get access all the source code by visiting this [site](https://www.github.com/pedromig/TODO)\n",
    "\n",
    "## Experimentation\n",
    "\n",
    "Having implemented all the algorithms, the experimentation began with the goal of analysing \n",
    "their behavior which would give us insight on what algorithm would yield the best results  \n",
    "from an anytime perspective. In order do that we ploted the change on hypervolume indicator \n",
    "value across all the objective function evaluations performed by all the algorithms \n",
    "on each given instances. This allowed us to observe not only how the quality of the solutions\n",
    "improved over all evaluations, but also how quick and how performant each one would be if \n",
    "the execution was stopped at anytime, when compared to one another.\n",
    "\n",
    "For illustration purposes we chose a few instances and ran the algorithms on them with the following\n",
    "parametrization:\n",
    "\n",
    "- **General Parametrization**:\n",
    "  + Maximum Number of Evaluations: **100000**\n",
    "  + RNG's Seed: **Random**\n",
    "  + Hypervolume Indicator Reference Point: **Origin**\n",
    "- **GSEMO Specific Parametrization**: **None**\n",
    "- **PLS Specific Parametrization**:\n",
    "  + Neighborhood Exploration Criterion: \n",
    "  + Solution Acceptance Criterion:\n",
    "- **IBEA Specific Parametrization**:\n",
    "  + Population Size: **50**\n",
    "  + Number of generations: **100000**\n",
    "  + Scalling Factor: **0.05**\n",
    "  + Indicator: **IHD**\n",
    "    * Reference Point: **Origin**\n",
    "  + Mutation Operator: **Uniform Mutation**\n",
    "    * Mutation Probability: **0.3**\n",
    "  + Crossover Operator: **N-Point Crossover**\n",
    "    * Crossover Probability: **0.8**\n",
    "    * Number of Crossover Points: **3**\n",
    "  + Selection Operator: **K-Way Tournament**\n",
    "    * Matting Pool Size: **10**\n",
    "    * Tournament Size: **5**\n",
    "\n",
    "The following plots show the results obtained:\n"
   ]
  },
  {
   "cell_type": "code",
   "execution_count": 1,
   "metadata": {},
   "outputs": [],
   "source": [
    "library(ggplot2)\n",
    "\n",
    "#' Plot the hypervolume indicator value across all the objective\n",
    "#' function evaluations for all the algorithms.\n",
    "#'\n",
    "#' @param gsemo_file output obtained by running the GSEMO\n",
    "#' @param pls_file output obtained by running the PLS\n",
    "#' @param b_ibea_file output obtained by running the B-IBEA\n",
    "#' @param a_ibea_file output obtained by running the A-IBEA\n",
    "#' @import ggplot2\n",
    "#' @examples\n",
    "#' hvplot(gsemo_file, pls_file, b_ibea_file, a_ibea_file)\n",
    "hvplot <- function(gsemo_file, pls_file, b_ibea_file, a_ibea_file) {\n",
    "  df_gsemo <- read.csv(gsemo_file)\n",
    "  df_gsemo$algorithm <- \"GSEMO\"\n",
    "\n",
    "  df_pls <- read.csv(pls_file)\n",
    "  df_pls$algorithm <- \"PLS\"\n",
    "\n",
    "  df_b_ibea <- read.csv(b_ibea_file)\n",
    "  df_b_ibea <- subset(df_b_ibea, select = -generation)\n",
    "  df_b_ibea$algorithm <- \"B-IBEA\"\n",
    "\n",
    "  df_a_ibea <- read.csv(a_ibea_file)\n",
    "  df_a_ibea <- subset(df_a_ibea, select = -generation)\n",
    "  df_a_ibea$algorithm <- \"A-IBEA\"\n",
    "\n",
    "  df <- rbind(df_pls, df_gsemo, df_b_ibea, df_a_ibea)\n",
    "  df$Evaluation <- as.numeric(df$evaluation)\n",
    "  df$Hypervolume <- as.numeric(df$hypervolume)\n",
    "  df$Algorithm <- as.factor(df$algorithm)\n",
    "\n",
    "  ggplot(df, aes(Evaluation, Hypervolume, color = Algorithm)) +\n",
    "    geom_step(direction = \"hv\")\n",
    "}"
   ]
  },
  {
   "cell_type": "markdown",
   "metadata": {},
   "source": [
    "### Plot 1 (instance: rmnk_0.0_2_128_1_0.dat)\n",
    "- Instance Seed: 0\n",
    "- *p* (correlation) : 0.0\n",
    "- M (number of objective functions) : 2\n",
    "- N (size of the bit string): 128\n",
    "- K (degree of epistasis): 1"
   ]
  },
  {
   "cell_type": "code",
   "execution_count": 2,
   "metadata": {},
   "outputs": [
    {
     "data": {
      "image/png": "[encoded data removed]",
      "text/plain": [
       "plot without title"
      ]
     },
     "metadata": {
      "image/png": {
       "height": 420,
       "width": 420
      }
     },
     "output_type": "display_data"
    }
   ],
   "source": [
    "hvplot(\n",
    "  \"data/rmnk_0.0_2_128_1_0/rmnk_0.0_2_128_1_0_GSEMO.csv\",\n",
    "  \"data/rmnk_0.0_2_128_1_0/rmnk_0.0_2_128_1_0_PLS.csv\",\n",
    "  \"data/rmnk_0.0_2_128_1_0/rmnk_0.0_2_128_1_0_BIBEA.csv\",\n",
    "  \"data/rmnk_0.0_2_128_1_0/rmnk_0.0_2_128_1_0_AIBEA.csv\"\n",
    ") "
   ]
  },
  {
   "cell_type": "markdown",
   "metadata": {},
   "source": [
    "### Plot 2 (instance: rmnk_0.0_2_128_8_0.dat)\n",
    "- Instance Seed: 0\n",
    "- *p* (correlation) : 0.0\n",
    "- M (number of objective functions) : 2\n",
    "- N (size of the bit string): 128\n",
    "- K (degree of epistasis): 8"
   ]
  },
  {
   "cell_type": "code",
   "execution_count": null,
   "metadata": {},
   "outputs": [],
   "source": [
    "hvplot(\n",
    "  \"data/rmnk_0.0_2_128_8_0/rmnk_0.0_2_128_8_0_GSEMO.csv\",\n",
    "  \"data/rmnk_0.0_2_128_8_0/rmnk_0.0_2_128_8_0_PLS.csv\",\n",
    "  \"data/rmnk_0.0_2_128_8_0/rmnk_0.0_2_128_8_0_BIBEA.csv\",\n",
    "  \"data/rmnk_0.0_2_128_8_0/rmnk_0.0_2_128_8_0_AIBEA.csv\"\n",
    ")"
   ]
  },
  {
   "cell_type": "markdown",
   "metadata": {},
   "source": [
    "### Plot 3 (instance: rmnk_0.0_5_128_1_0.dat)\n",
    "- Instance Seed: 0\n",
    "- *p* (correlation) : 0.0\n",
    "- M (number of objective functions) : 5\n",
    "- N (size of the bit string): 128\n",
    "- K (degree of epistasis): 1"
   ]
  },
  {
   "cell_type": "code",
   "execution_count": null,
   "metadata": {},
   "outputs": [],
   "source": [
    "hvplot(\n",
    "  \"data/rmnk_0.0_5_128_1_0/rmnk_0.0_5_128_1_0_GSEMO.csv\",\n",
    "  \"data/rmnk_0.0_5_128_1_0/rmnk_0.0_5_128_1_0_PLS.csv\",\n",
    "  \"data/rmnk_0.0_5_128_1_0/rmnk_0.0_5_128_1_0_BIBEA.csv\",\n",
    "  \"data/rmnk_0.0_5_128_1_0/rmnk_0.0_5_128_1_0_AIBEA.csv\"\n",
    ")"
   ]
  },
  {
   "cell_type": "markdown",
   "metadata": {},
   "source": [
    "### Plot 4 (instance: rmnk_0.0_5_128_8_0.dat)\n",
    "- Instance Seed: 0\n",
    "- *p* (correlation) : 0.0\n",
    "- M (number of objective functions) : 5\n",
    "- N (size of the bit string): 128\n",
    "- K (degree of epistasis): 8"
   ]
  },
  {
   "cell_type": "code",
   "execution_count": null,
   "metadata": {},
   "outputs": [],
   "source": [
    "hvplot(\n",
    "  \"data/rmnk_0.0_5_128_8_0/rmnk_0.0_5_128_8_0_GSEMO.csv\",\n",
    "  \"data/rmnk_0.0_5_128_8_0/rmnk_0.0_5_128_8_0_PLS.csv\",\n",
    "  \"data/rmnk_0.0_5_128_8_0/rmnk_0.0_5_128_8_0_BIBEA.csv\",\n",
    "  \"data/rmnk_0.0_5_128_8_0/rmnk_0.0_5_128_8_0_AIBEA.csv\"\n",
    ")"
   ]
  },
  {
   "cell_type": "markdown",
   "metadata": {},
   "source": [
    "### Plot 5 (instance: rmnk_0.0_7_128_1_0.dat)\n",
    "- Instance Seed: 0\n",
    "- *p* (correlation) : 0.0\n",
    "- M (number of objective functions) : 7\n",
    "- N (size of the bit string): 128\n",
    "- K (degree of epistasis): 1"
   ]
  },
  {
   "cell_type": "code",
   "execution_count": null,
   "metadata": {},
   "outputs": [],
   "source": [
    "hvplot(\n",
    "  \"data/rmnk_0.0_7_128_1_0/rmnk_0.0_7_128_1_0_GSEMO.csv\",\n",
    "  \"data/rmnk_0.0_7_128_1_0/rmnk_0.0_7_128_1_0_PLS.csv\",\n",
    "  \"data/rmnk_0.0_7_128_1_0/rmnk_0.0_7_128_1_0_BIBEA.csv\",\n",
    "  \"data/rmnk_0.0_7_128_1_0/rmnk_0.0_7_128_1_0_AIBEA.csv\"\n",
    ")"
   ]
  },
  {
   "cell_type": "markdown",
   "metadata": {},
   "source": [
    "### Plot 6 (instance: rmnk_0.0_7_128_1_8.dat)\n",
    "- Instance Seed: 0\n",
    "- *p* (correlation) : 0.0\n",
    "- M (number of objective functions) : 7\n",
    "- N (size of the bit string): 128\n",
    "- K (degree of epistasis): 8"
   ]
  },
  {
   "cell_type": "code",
   "execution_count": null,
   "metadata": {},
   "outputs": [],
   "source": [
    "hvplot(\n",
    "  \"data/rmnk_0.0_7_128_8_0/rmnk_0.0_7_128_8_0_GSEMO.csv\",\n",
    "  \"data/rmnk_0.0_7_128_8_0/rmnk_0.0_7_128_8_0_PLS.csv\",\n",
    "  \"data/rmnk_0.0_7_128_8_0/rmnk_0.0_7_128_8_0_BIBEA.csv\",\n",
    "  \"data/rmnk_0.0_7_128_8_0/rmnk_0.0_7_128_8_0_AIBEA.csv\"\n",
    ")"
   ]
  },
  {
   "cell_type": "markdown",
   "metadata": {},
   "source": [
    "### Plot 7 (instance: rmnk_0.3_2_128_1_0.dat)\n",
    "- Instance Seed: 0\n",
    "- *p* (correlation) : 0.3\n",
    "- M (number of objective functions) : 2\n",
    "- N (size of the bit string): 128\n",
    "- K (degree of epistasis): 1"
   ]
  },
  {
   "cell_type": "code",
   "execution_count": null,
   "metadata": {},
   "outputs": [],
   "source": [
    "hvplot(\n",
    "  \"data/rmnk_0.3_2_128_1_0/rmnk_0.3_2_128_1_0_GSEMO.csv\",\n",
    "  \"data/rmnk_0.3_2_128_1_0/rmnk_0.3_2_128_1_0_PLS.csv\",\n",
    "  \"data/rmnk_0.3_2_128_1_0/rmnk_0.3_2_128_1_0_BIBEA.csv\",\n",
    "  \"data/rmnk_0.3_2_128_1_0/rmnk_0.3_2_128_1_0_AIBEA.csv\"\n",
    ")"
   ]
  },
  {
   "cell_type": "markdown",
   "metadata": {},
   "source": [
    "### Plot 8 (instance: rmnk_0.3_2_128_8_0.dat)\n",
    "- Instance Seed: 0\n",
    "- *p* (correlation) : 0.3\n",
    "- M (number of objective functions) : 2\n",
    "- N (size of the bit string): 128\n",
    "- K (degree of epistasis): 8\n"
   ]
  },
  {
   "cell_type": "code",
   "execution_count": null,
   "metadata": {},
   "outputs": [],
   "source": [
    "hvplot(\n",
    "  \"data/rmnk_0.3_2_128_8_0/rmnk_0.3_2_128_8_0_GSEMO.csv\",\n",
    "  \"data/rmnk_0.3_2_128_8_0/rmnk_0.3_2_128_8_0_PLS.csv\",\n",
    "  \"data/rmnk_0.3_2_128_8_0/rmnk_0.3_2_128_8_0_BIBEA.csv\",\n",
    "  \"data/rmnk_0.3_2_128_8_0/rmnk_0.3_2_128_8_0_AIBEA.csv\"\n",
    ")"
   ]
  },
  {
   "cell_type": "markdown",
   "metadata": {},
   "source": [
    "### Plot 9 (instance: rmnk_0.3_5_128_1_0.dat)\n",
    "- Instance Seed: 0\n",
    "- *p* (correlation) : 0.3\n",
    "- M (number of objective functions) : 5\n",
    "- N (size of the bit string): 128\n",
    "- K (degree of epistasis): 1"
   ]
  },
  {
   "cell_type": "code",
   "execution_count": null,
   "metadata": {},
   "outputs": [],
   "source": [
    "hvplot(\n",
    "  \"data/rmnk_0.3_5_128_1_0/rmnk_0.3_5_128_1_0_GSEMO.csv\",\n",
    "  \"data/rmnk_0.3_5_128_1_0/rmnk_0.3_5_128_1_0_PLS.csv\",\n",
    "  \"data/rmnk_0.3_5_128_1_0/rmnk_0.3_5_128_1_0_BIBEA.csv\",\n",
    "  \"data/rmnk_0.3_5_128_1_0/rmnk_0.3_5_128_1_0_AIBEA.csv\"\n",
    ")"
   ]
  },
  {
   "cell_type": "markdown",
   "metadata": {},
   "source": [
    "### Plot 10 (instance: rmnk_0.3_5_128_8_0.dat)\n",
    "- Instance Seed: 0\n",
    "- *p* (correlation) : 0.3\n",
    "- M (number of objective functions) : 5\n",
    "- N (size of the bit string): 128\n",
    "- K (degree of epistasis): 8"
   ]
  },
  {
   "cell_type": "code",
   "execution_count": null,
   "metadata": {},
   "outputs": [],
   "source": [
    "hvplot(\n",
    "  \"data/rmnk_0.3_5_128_8_0/rmnk_0.3_5_128_8_0_GSEMO.csv\",\n",
    "  \"data/rmnk_0.3_5_128_8_0/rmnk_0.3_5_128_8_0_PLS.csv\",\n",
    "  \"data/rmnk_0.3_5_128_8_0/rmnk_0.3_5_128_8_0_BIBEA.csv\",\n",
    "  \"data/rmnk_0.3_5_128_8_0/rmnk_0.3_5_128_8_0_AIBEA.csv\"\n",
    ")"
   ]
  },
  {
   "cell_type": "markdown",
   "metadata": {},
   "source": [
    "### Plot 11 (instance: rmnk_0.7_2_128_1_0.dat)\n",
    "- Instance Seed: 0\n",
    "- *p* (correlation) : 0.7\n",
    "- M (number of objective functions) : 2\n",
    "- N (size of the bit string): 128\n",
    "- K (degree of epistasis): 1"
   ]
  },
  {
   "cell_type": "code",
   "execution_count": null,
   "metadata": {},
   "outputs": [],
   "source": [
    "hvplot(\n",
    "  \"data/rmnk_0.7_2_128_1_0/rmnk_0.7_2_128_1_0_GSEMO.csv\",\n",
    "  \"data/rmnk_0.7_2_128_1_0/rmnk_0.7_2_128_1_0_PLS.csv\",\n",
    "  \"data/rmnk_0.7_2_128_1_0/rmnk_0.7_2_128_1_0_BIBEA.csv\",\n",
    "  \"data/rmnk_0.7_2_128_1_0/rmnk_0.7_2_128_1_0_AIBEA.csv\"\n",
    ")"
   ]
  },
  {
   "cell_type": "markdown",
   "metadata": {},
   "source": [
    "### Plot 12 (instance: rmnk_0.7_2_128_8_0.dat)\n",
    "- Instance Seed: 0\n",
    "- *p* (correlation) : 0.7\n",
    "- M (number of objective functions) : 2\n",
    "- N (size of the bit string): 128\n",
    "- K (degree of epistasis): 8"
   ]
  },
  {
   "cell_type": "code",
   "execution_count": null,
   "metadata": {},
   "outputs": [],
   "source": [
    "hvplot(\n",
    "  \"data/rmnk_0.7_2_128_8_0/rmnk_0.7_2_128_8_0_GSEMO.csv\",\n",
    "  \"data/rmnk_0.7_2_128_8_0/rmnk_0.7_2_128_8_0_PLS.csv\",\n",
    "  \"data/rmnk_0.7_2_128_8_0/rmnk_0.7_2_128_8_0_BIBEA.csv\",\n",
    "  \"data/rmnk_0.7_2_128_8_0/rmnk_0.7_2_128_8_0_AIBEA.csv\"\n",
    ")"
   ]
  },
  {
   "cell_type": "markdown",
   "metadata": {},
   "source": [
    "### Plot 13 (instance: rmnk_-0.3_2_128_1_0.dat)\n",
    "- Instance Seed: 0\n",
    "- *p* (correlation) : -0.3\n",
    "- M (number of objective functions) : 2\n",
    "- N (size of the bit string): 128\n",
    "- K (degree of epistasis): 1"
   ]
  },
  {
   "cell_type": "code",
   "execution_count": null,
   "metadata": {},
   "outputs": [],
   "source": [
    "hvplot(\n",
    "  \"data/rmnk_-0.3_2_128_1_0/rmnk_-0.3_2_128_1_0_GSEMO.csv\",\n",
    "  \"data/rmnk_-0.3_2_128_1_0/rmnk_-0.3_2_128_1_0_PLS.csv\",\n",
    "  \"data/rmnk_-0.3_2_128_1_0/rmnk_-0.3_2_128_1_0_BIBEA.csv\",\n",
    "  \"data/rmnk_-0.3_2_128_1_0/rmnk_-0.3_2_128_1_0_AIBEA.csv\"\n",
    ")"
   ]
  },
  {
   "cell_type": "markdown",
   "metadata": {},
   "source": [
    "### Plot 14 (instance: rmnk_-0.3_2_128_8_0.dat)\n",
    "- Instance Seed: 0\n",
    "- *p* (correlation) : -0.3\n",
    "- M (number of objective functions) : 2\n",
    "- N (size of the bit string): 128\n",
    "- K (degree of epistasis): 8"
   ]
  },
  {
   "cell_type": "code",
   "execution_count": null,
   "metadata": {},
   "outputs": [],
   "source": [
    "hvplot(\n",
    "  \"data/rmnk_-0.3_2_128_8_0/rmnk_-0.3_2_128_8_0_GSEMO.csv\",\n",
    "  \"data/rmnk_-0.3_2_128_8_0/rmnk_-0.3_2_128_8_0_PLS.csv\",\n",
    "  \"data/rmnk_-0.3_2_128_8_0/rmnk_-0.3_2_128_8_0_BIBEA.csv\",\n",
    "  \"data/rmnk_-0.3_2_128_8_0/rmnk_-0.3_2_128_8_0_AIBEA.csv\"\n",
    ")"
   ]
  },
  {
   "cell_type": "markdown",
   "metadata": {},
   "source": [
    "### Plot 15 (instance: rmnk_-0.3_3_128_1_0.dat)\n",
    "- Instance Seed: 0\n",
    "- *p* (correlation) : -0.3\n",
    "- M (number of objective functions) : 3\n",
    "- N (size of the bit string): 128\n",
    "- K (degree of epistasis): 1"
   ]
  },
  {
   "cell_type": "code",
   "execution_count": null,
   "metadata": {},
   "outputs": [],
   "source": [
    "hvplot(\n",
    "  \"data/rmnk_-0.3_3_128_1_0/rmnk_-0.3_3_128_1_0_GSEMO.csv\",\n",
    "  \"data/rmnk_-0.3_3_128_1_0/rmnk_-0.3_3_128_1_0_PLS.csv\",\n",
    "  \"data/rmnk_-0.3_3_128_1_0/rmnk_-0.3_3_128_1_0_BIBEA.csv\",\n",
    "  \"data/rmnk_-0.3_3_128_1_0/rmnk_-0.3_3_128_1_0_AIBEA.csv\"\n",
    ")"
   ]
  },
  {
   "cell_type": "markdown",
   "metadata": {},
   "source": [
    "### Plot 16 (instance: rmnk_-0.3_3_128_8_0.dat)\n",
    "- Instance Seed: 0\n",
    "- *p* (correlation) : -0.3\n",
    "- M (number of objective functions) : 3\n",
    "- N (size of the bit string): 128\n",
    "- K (degree of epistasis): 8"
   ]
  },
  {
   "cell_type": "code",
   "execution_count": null,
   "metadata": {},
   "outputs": [],
   "source": [
    "hvplot(\n",
    "  \"data/rmnk_-0.3_3_128_8_0/rmnk_-0.3_3_128_8_0_GSEMO.csv\",\n",
    "  \"data/rmnk_-0.3_3_128_8_0/rmnk_-0.3_3_128_8_0_PLS.csv\",\n",
    "  \"data/rmnk_-0.3_3_128_8_0/rmnk_-0.3_3_128_8_0_BIBEA.csv\",\n",
    "  \"data/rmnk_-0.3_3_128_8_0/rmnk_-0.3_3_128_8_0_AIBEA.csv\"\n",
    ")"
   ]
  },
  {
   "cell_type": "markdown",
   "metadata": {},
   "source": [
    "### Plot 17 (instance: rmnk_-0.7_2_128_1_0.dat)\n",
    "- Instance Seed: 0\n",
    "- *p* (correlation) : -0.7\n",
    "- M (number of objective functions) : 2\n",
    "- N (size of the bit string): 128\n",
    "- K (degree of epistasis): 1"
   ]
  },
  {
   "cell_type": "code",
   "execution_count": null,
   "metadata": {},
   "outputs": [],
   "source": [
    "hvplot(\n",
    "  \"data/rmnk_-0.7_2_128_1_0/rmnk_-0.7_2_128_1_0_GSEMO.csv\",\n",
    "  \"data/rmnk_-0.7_2_128_1_0/rmnk_-0.7_2_128_1_0_PLS.csv\",\n",
    "  \"data/rmnk_-0.7_2_128_1_0/rmnk_-0.7_2_128_1_0_BIBEA.csv\",\n",
    "  \"data/rmnk_-0.7_2_128_1_0/rmnk_-0.7_2_128_1_0_AIBEA.csv\"\n",
    ")"
   ]
  },
  {
   "cell_type": "markdown",
   "metadata": {},
   "source": [
    "### Plot 18 (instance: rmnk_-0.7_2_128_8_0.dat)\n",
    "- Instance Seed: 0\n",
    "- *p* (correlation) : -0.7\n",
    "- M (number of objective functions) : 2\n",
    "- N (size of the bit string): 128\n",
    "- K (degree of epistasis): 8"
   ]
  },
  {
   "cell_type": "code",
   "execution_count": null,
   "metadata": {},
   "outputs": [],
   "source": [
    "hvplot(\n",
    "  \"data/rmnk_-0.7_2_128_8_0/rmnk_-0.7_2_128_8_0_GSEMO.csv\",\n",
    "  \"data/rmnk_-0.7_2_128_8_0/rmnk_-0.7_2_128_8_0_PLS.csv\",\n",
    "  \"data/rmnk_-0.7_2_128_8_0/rmnk_-0.7_2_128_8_0_BIBEA.csv\",\n",
    "  \"data/rmnk_-0.7_2_128_8_0/rmnk_-0.7_2_128_8_0_AIBEA.csv\"\n",
    ")"
   ]
  },
  {
   "cell_type": "markdown",
   "metadata": {},
   "source": [
    "## Conclusion and Future Work\n",
    "\n",
    "After a close analysis of the obtained plots we can reach a few conclusions:\n",
    "1. **There is not a \"perfect\" algorithm for all kinds of instances**.  \n",
    "Depending on the landscape some algorithms will prove more usefull than others, since all of \n",
    "them explore different search methodologies: \n",
    "The GSEMO algorithm being a \"hill-climber\" and global optimizer will tend to be more elitist in\n",
    "the exploration method, using best solution obtained from the last iteration as the starting point\n",
    "of the next, completely disregarding the exploration of neighbor solutions.\n",
    "Contrary to the GSEMO, PLS, being a local optimizer, will tend to explore the neighborhood solutions\n",
    "thouroughly and will very often get stuck on local optima.\n",
    "As for IBEA, being this a evolutionary algorithm, a more constructive approach will be taken, as\n",
    "the \"good\" solutions will be kept and improved through stochastic processes, and \"worst\" solutions\n",
    "will eventually disappear as a result natural selection. \n",
    "2. **Alternating between algorithms might turn into a good strategy**.  \n",
    "\n",
    "3. **GSEMO is the algorithm with the best anytime behavior (taking only these instances into account)**\n",
    "4. **Evolutionary approaches prove to be more valuable as the landscape ruggeness increases (e.g more objective functions)**\n",
    "5. **Parametrization might be the key for extracting more performance** \n",
    "\n",
    "\n",
    "## References\n",
    "\n",
    "[1] M. Ehrgott, Multicriteria Optimization. Springer-Verlag, second ed., 2005.\n",
    "\n",
    "[2] F. Daolio, A. Liefooghe, S. Verel, H. Aguirre, and K. Tanaka, “Problem features versus algorithm\n",
    "performance on rugged multiobjective combinatorial fitness landscapes,” Evolutionary Computation, vol.\n",
    "25, no. 4, pp. 555–585, 2017.\n",
    "\n",
    "[3] S. Verel, A. Liefooghe, L. Jourdan, and C. Dhaenens, “On the structure of multiobjective\n",
    "combinatorial search space: MNK-landscapes with correlated objectives, ”European Journal \n",
    "of Operational Research, vol. 227, no. 2, pp. 331–342, 2013.\n",
    "\n",
    "[4] M. Laumanns, L. Thiele, and E. Zitzler, “Running time analysis of evolutionary algorithms on a\n",
    "simplified multiobjective knapsack problem,” Natural Computing, vol. 3, no. 1, pp. 37–51, 2004.\n",
    "\n",
    "[5] E. Zitzler and L. Thiele, “Multiobjective optimization using evolutionary algorithms — A comparative\n",
    "case study,” inProceedings of the 5th In- ternational Conference on Parallel Problem Solving from Nature\n",
    "(PPSN 1998), pp. 292–301, 1998.\n",
    "\n",
    "[6] L. Paquete, M. Chiarandini, and T. Stützle,Pareto Local Optimum Sets in the Biobjective Traveling\n",
    "Salesman Problem: An Experimental Study, pp. 177–199. Lecture Notes in Economics and Mathematical\n",
    "Systems, Springer Berlin Heidelberg, 2004.\n",
    "\n",
    "[7] Jérémie Dubois-Lacoste, Manuel López-Ibáñez, Thomas Stützle, Anytime Pareto local search,\n",
    "European Journal of Operational Research, Volume 243, Issue 2, 2015 Pages 369-385, ISSN 0377-2217\n",
    "DOI: https://doi.org/10.1016/j.ejor.2014.10.062.\n",
    "\n",
    "[8] Eckart Zitler, Simon Künzli, \"Indicator-Based Selection in Multiobjective Search\"\n",
    "\n",
    "[9] Arnaud Liefooghe, Bilel Derbel. A Correlation Analysis of Set Quality Indicator Values in\n",
    "Multiobjective Optimization. Genetic and Evolutionary Computation Conference (GECCO 2016), Jul 2016,\n",
    "Denver, United States. hal-01159961v2A\n",
    "\n",
    "[10] A.E. Eiben, J.E. Smith, Introduction to Evolutionary Computing, ISSN 1619-7127, \n",
    "DOI: https://doi.org/10.1007/978-3-662-44874-8\n"
   ]
  }
 ],
 "metadata": {
  "kernelspec": {
   "display_name": "R",
   "language": "R",
   "name": "ir"
  },
  "language_info": {
   "codemirror_mode": "r",
   "file_extension": ".r",
   "mimetype": "text/x-r-source",
   "name": "R",
   "pygments_lexer": "r",
   "version": "4.1.1"
  }
 },
 "nbformat": 4,
 "nbformat_minor": 4
}
